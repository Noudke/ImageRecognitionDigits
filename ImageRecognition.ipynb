{
 "cells": [
  {
   "cell_type": "code",
   "execution_count": 14,
   "outputs": [],
   "source": [
    "import numpy as np\n",
    "\n",
    "# Load train.csv and test.csv\n",
    "train = np.loadtxt('train.csv', skiprows=1, delimiter=',')\n",
    "test = np.loadtxt('test.csv', skiprows=1, delimiter=',')"
   ],
   "metadata": {
    "collapsed": false,
    "pycharm": {
     "name": "#%%\n"
    }
   }
  },
  {
   "cell_type": "code",
   "execution_count": 15,
   "outputs": [
    {
     "name": "stdout",
     "output_type": "stream",
     "text": [
      "(42000, 28, 28, 1)\n",
      "(10000, 28, 28, 1)\n"
     ]
    },
    {
     "data": {
      "text/plain": "array([[[[0.],\n         [0.],\n         [0.],\n         ...,\n         [0.],\n         [0.],\n         [0.]],\n\n        [[0.],\n         [0.],\n         [0.],\n         ...,\n         [0.],\n         [0.],\n         [0.]],\n\n        [[0.],\n         [0.],\n         [0.],\n         ...,\n         [0.],\n         [0.],\n         [0.]],\n\n        ...,\n\n        [[0.],\n         [0.],\n         [0.],\n         ...,\n         [0.],\n         [0.],\n         [0.]],\n\n        [[0.],\n         [0.],\n         [0.],\n         ...,\n         [0.],\n         [0.],\n         [0.]],\n\n        [[0.],\n         [0.],\n         [0.],\n         ...,\n         [0.],\n         [0.],\n         [0.]]],\n\n\n       [[[0.],\n         [0.],\n         [0.],\n         ...,\n         [0.],\n         [0.],\n         [0.]],\n\n        [[0.],\n         [0.],\n         [0.],\n         ...,\n         [0.],\n         [0.],\n         [0.]],\n\n        [[0.],\n         [0.],\n         [0.],\n         ...,\n         [0.],\n         [0.],\n         [0.]],\n\n        ...,\n\n        [[0.],\n         [0.],\n         [0.],\n         ...,\n         [0.],\n         [0.],\n         [0.]],\n\n        [[0.],\n         [0.],\n         [0.],\n         ...,\n         [0.],\n         [0.],\n         [0.]],\n\n        [[0.],\n         [0.],\n         [0.],\n         ...,\n         [0.],\n         [0.],\n         [0.]]],\n\n\n       [[[0.],\n         [0.],\n         [0.],\n         ...,\n         [0.],\n         [0.],\n         [0.]],\n\n        [[0.],\n         [0.],\n         [0.],\n         ...,\n         [0.],\n         [0.],\n         [0.]],\n\n        [[0.],\n         [0.],\n         [0.],\n         ...,\n         [0.],\n         [0.],\n         [0.]],\n\n        ...,\n\n        [[0.],\n         [0.],\n         [0.],\n         ...,\n         [0.],\n         [0.],\n         [0.]],\n\n        [[0.],\n         [0.],\n         [0.],\n         ...,\n         [0.],\n         [0.],\n         [0.]],\n\n        [[0.],\n         [0.],\n         [0.],\n         ...,\n         [0.],\n         [0.],\n         [0.]]],\n\n\n       ...,\n\n\n       [[[0.],\n         [0.],\n         [0.],\n         ...,\n         [0.],\n         [0.],\n         [0.]],\n\n        [[0.],\n         [0.],\n         [0.],\n         ...,\n         [0.],\n         [0.],\n         [0.]],\n\n        [[0.],\n         [0.],\n         [0.],\n         ...,\n         [0.],\n         [0.],\n         [0.]],\n\n        ...,\n\n        [[0.],\n         [0.],\n         [0.],\n         ...,\n         [0.],\n         [0.],\n         [0.]],\n\n        [[0.],\n         [0.],\n         [0.],\n         ...,\n         [0.],\n         [0.],\n         [0.]],\n\n        [[0.],\n         [0.],\n         [0.],\n         ...,\n         [0.],\n         [0.],\n         [0.]]],\n\n\n       [[[0.],\n         [0.],\n         [0.],\n         ...,\n         [0.],\n         [0.],\n         [0.]],\n\n        [[0.],\n         [0.],\n         [0.],\n         ...,\n         [0.],\n         [0.],\n         [0.]],\n\n        [[0.],\n         [0.],\n         [0.],\n         ...,\n         [0.],\n         [0.],\n         [0.]],\n\n        ...,\n\n        [[0.],\n         [0.],\n         [0.],\n         ...,\n         [0.],\n         [0.],\n         [0.]],\n\n        [[0.],\n         [0.],\n         [0.],\n         ...,\n         [0.],\n         [0.],\n         [0.]],\n\n        [[0.],\n         [0.],\n         [0.],\n         ...,\n         [0.],\n         [0.],\n         [0.]]],\n\n\n       [[[0.],\n         [0.],\n         [0.],\n         ...,\n         [0.],\n         [0.],\n         [0.]],\n\n        [[0.],\n         [0.],\n         [0.],\n         ...,\n         [0.],\n         [0.],\n         [0.]],\n\n        [[0.],\n         [0.],\n         [0.],\n         ...,\n         [0.],\n         [0.],\n         [0.]],\n\n        ...,\n\n        [[0.],\n         [0.],\n         [0.],\n         ...,\n         [0.],\n         [0.],\n         [0.]],\n\n        [[0.],\n         [0.],\n         [0.],\n         ...,\n         [0.],\n         [0.],\n         [0.]],\n\n        [[0.],\n         [0.],\n         [0.],\n         ...,\n         [0.],\n         [0.],\n         [0.]]]])"
     },
     "execution_count": 15,
     "metadata": {},
     "output_type": "execute_result"
    }
   ],
   "source": [
    "# Split train.csv into train and validation\n",
    "train_images = train[:, 1:]\n",
    "train_labels = train[:, 0]\n",
    "train_images = train_images.reshape((train_images.shape[0], 28, 28, 1))\n",
    "train_images = train_images / 255.0\n",
    "validation_images = train_images[:10000]\n",
    "validation_labels = train_labels[:10000]\n",
    "\n",
    "print(train_images.shape)\n",
    "print(validation_images.shape)\n",
    "\n",
    "train_images"
   ],
   "metadata": {
    "collapsed": false,
    "pycharm": {
     "name": "#%%\n"
    }
   }
  },
  {
   "cell_type": "code",
   "execution_count": 12,
   "outputs": [
    {
     "name": "stdout",
     "output_type": "stream",
     "text": [
      "Epoch 1/40\n",
      "1313/1313 [==============================] - 23s 17ms/step - loss: 0.1818 - accuracy: 0.9430 - val_loss: 0.0500 - val_accuracy: 0.9839\n",
      "Epoch 2/40\n",
      "1313/1313 [==============================] - 23s 18ms/step - loss: 0.0526 - accuracy: 0.9828 - val_loss: 0.0297 - val_accuracy: 0.9897\n",
      "Epoch 3/40\n",
      "1313/1313 [==============================] - 23s 17ms/step - loss: 0.0367 - accuracy: 0.9880 - val_loss: 0.0242 - val_accuracy: 0.9919\n",
      "Epoch 4/40\n",
      "1313/1313 [==============================] - 24s 18ms/step - loss: 0.0288 - accuracy: 0.9911 - val_loss: 0.0273 - val_accuracy: 0.9916\n",
      "Epoch 5/40\n",
      "1313/1313 [==============================] - 22s 17ms/step - loss: 0.0236 - accuracy: 0.9922 - val_loss: 0.0161 - val_accuracy: 0.9959\n",
      "Epoch 6/40\n",
      "1313/1313 [==============================] - 25s 19ms/step - loss: 0.0163 - accuracy: 0.9950 - val_loss: 0.0180 - val_accuracy: 0.9943\n",
      "Epoch 7/40\n",
      "1313/1313 [==============================] - 33s 25ms/step - loss: 0.0146 - accuracy: 0.9953 - val_loss: 0.0070 - val_accuracy: 0.9976\n",
      "Epoch 8/40\n",
      "1313/1313 [==============================] - 28s 21ms/step - loss: 0.0135 - accuracy: 0.9958 - val_loss: 0.0131 - val_accuracy: 0.9954\n",
      "Epoch 9/40\n",
      "1313/1313 [==============================] - 29s 22ms/step - loss: 0.0110 - accuracy: 0.9965 - val_loss: 0.0074 - val_accuracy: 0.9975\n",
      "Epoch 10/40\n",
      "1313/1313 [==============================] - 31s 24ms/step - loss: 0.0090 - accuracy: 0.9972 - val_loss: 0.0184 - val_accuracy: 0.9938\n",
      "Epoch 11/40\n",
      "1313/1313 [==============================] - 28s 21ms/step - loss: 0.0088 - accuracy: 0.9975 - val_loss: 0.0071 - val_accuracy: 0.9976\n",
      "Epoch 12/40\n",
      "1313/1313 [==============================] - 26s 20ms/step - loss: 0.0088 - accuracy: 0.9970 - val_loss: 0.0060 - val_accuracy: 0.9980\n",
      "Epoch 13/40\n",
      "1313/1313 [==============================] - 27s 21ms/step - loss: 0.0080 - accuracy: 0.9975 - val_loss: 0.0084 - val_accuracy: 0.9966\n",
      "Epoch 14/40\n",
      "1313/1313 [==============================] - 27s 20ms/step - loss: 0.0059 - accuracy: 0.9980 - val_loss: 0.0023 - val_accuracy: 0.9992\n",
      "Epoch 15/40\n",
      "1313/1313 [==============================] - 25s 19ms/step - loss: 0.0069 - accuracy: 0.9975 - val_loss: 0.0081 - val_accuracy: 0.9974\n",
      "Epoch 16/40\n",
      "1313/1313 [==============================] - 27s 20ms/step - loss: 0.0058 - accuracy: 0.9980 - val_loss: 0.0032 - val_accuracy: 0.9991\n",
      "Epoch 17/40\n",
      "1313/1313 [==============================] - 34s 26ms/step - loss: 0.0055 - accuracy: 0.9984 - val_loss: 0.0025 - val_accuracy: 0.9990\n",
      "Epoch 18/40\n",
      "1313/1313 [==============================] - 26s 20ms/step - loss: 0.0079 - accuracy: 0.9976 - val_loss: 0.0029 - val_accuracy: 0.9989\n",
      "Epoch 19/40\n",
      "1313/1313 [==============================] - 23s 18ms/step - loss: 0.0047 - accuracy: 0.9987 - val_loss: 0.0042 - val_accuracy: 0.9986\n",
      "Epoch 20/40\n",
      "1313/1313 [==============================] - 24s 18ms/step - loss: 0.0032 - accuracy: 0.9989 - val_loss: 0.0034 - val_accuracy: 0.9987\n",
      "Epoch 21/40\n",
      "1313/1313 [==============================] - 24s 18ms/step - loss: 0.0052 - accuracy: 0.9983 - val_loss: 0.0021 - val_accuracy: 0.9994\n",
      "Epoch 22/40\n",
      "1313/1313 [==============================] - 30s 23ms/step - loss: 0.0049 - accuracy: 0.9986 - val_loss: 0.0036 - val_accuracy: 0.9989\n",
      "Epoch 23/40\n",
      "1313/1313 [==============================] - 33s 25ms/step - loss: 0.0050 - accuracy: 0.9983 - val_loss: 9.1994e-04 - val_accuracy: 0.9995\n",
      "Epoch 24/40\n",
      "1313/1313 [==============================] - 39s 30ms/step - loss: 0.0045 - accuracy: 0.9988 - val_loss: 0.0015 - val_accuracy: 0.9997\n",
      "Epoch 25/40\n",
      "1313/1313 [==============================] - 34s 26ms/step - loss: 0.0044 - accuracy: 0.9989 - val_loss: 0.0079 - val_accuracy: 0.9974\n",
      "Epoch 26/40\n",
      "1313/1313 [==============================] - 36s 28ms/step - loss: 0.0054 - accuracy: 0.9983 - val_loss: 0.0016 - val_accuracy: 0.9996\n",
      "Epoch 27/40\n",
      "1313/1313 [==============================] - 37s 28ms/step - loss: 0.0045 - accuracy: 0.9988 - val_loss: 0.0045 - val_accuracy: 0.9985\n",
      "Epoch 28/40\n",
      "1313/1313 [==============================] - 43s 33ms/step - loss: 0.0044 - accuracy: 0.9986 - val_loss: 0.0034 - val_accuracy: 0.9991\n",
      "Epoch 29/40\n",
      "1313/1313 [==============================] - 42s 32ms/step - loss: 0.0026 - accuracy: 0.9990 - val_loss: 0.0047 - val_accuracy: 0.9989\n",
      "Epoch 30/40\n",
      "1313/1313 [==============================] - 47s 36ms/step - loss: 0.0048 - accuracy: 0.9987 - val_loss: 0.0058 - val_accuracy: 0.9984\n",
      "Epoch 31/40\n",
      "1313/1313 [==============================] - 47s 36ms/step - loss: 0.0048 - accuracy: 0.9989 - val_loss: 0.0053 - val_accuracy: 0.9981\n",
      "Epoch 32/40\n",
      "1313/1313 [==============================] - 44s 34ms/step - loss: 0.0034 - accuracy: 0.9988 - val_loss: 0.0079 - val_accuracy: 0.9978\n",
      "Epoch 33/40\n",
      "1313/1313 [==============================] - 39s 30ms/step - loss: 0.0033 - accuracy: 0.9990 - val_loss: 9.3244e-04 - val_accuracy: 0.9997\n",
      "Epoch 34/40\n",
      "1313/1313 [==============================] - 42s 32ms/step - loss: 0.0021 - accuracy: 0.9993 - val_loss: 0.0021 - val_accuracy: 0.9997\n",
      "Epoch 35/40\n",
      "1313/1313 [==============================] - 28s 22ms/step - loss: 0.0046 - accuracy: 0.9987 - val_loss: 0.0029 - val_accuracy: 0.9992\n",
      "Epoch 36/40\n",
      "1313/1313 [==============================] - 27s 21ms/step - loss: 0.0047 - accuracy: 0.9986 - val_loss: 0.0026 - val_accuracy: 0.9992\n",
      "Epoch 37/40\n",
      "1313/1313 [==============================] - 28s 21ms/step - loss: 0.0045 - accuracy: 0.9988 - val_loss: 0.0016 - val_accuracy: 0.9995\n",
      "Epoch 38/40\n",
      "1313/1313 [==============================] - 25s 19ms/step - loss: 0.0016 - accuracy: 0.9996 - val_loss: 0.0011 - val_accuracy: 0.9995\n",
      "Epoch 39/40\n",
      "1313/1313 [==============================] - 23s 17ms/step - loss: 0.0062 - accuracy: 0.9985 - val_loss: 0.0026 - val_accuracy: 0.9991\n",
      "Epoch 40/40\n",
      "1313/1313 [==============================] - 22s 17ms/step - loss: 0.0036 - accuracy: 0.9989 - val_loss: 0.0016 - val_accuracy: 0.9993\n"
     ]
    },
    {
     "data": {
      "text/plain": "<Figure size 432x288 with 1 Axes>",
      "image/png": "[encoded data removed]"
     },
     "metadata": {
      "needs_background": "light"
     },
     "output_type": "display_data"
    }
   ],
   "source": [
    "from keras.layers import Dense\n",
    "from keras import layers\n",
    "from keras.models import Sequential\n",
    "import matplotlib.pyplot as plt\n",
    "\n",
    "\n",
    "# Create the model\n",
    "model = Sequential()\n",
    "model.add(layers.Conv2D(32, (3, 3), activation='relu', input_shape=(28, 28, 1)))\n",
    "model.add(layers.MaxPooling2D((2, 2)))\n",
    "model.add(layers.Conv2D(64, (3, 3), activation='relu'))\n",
    "model.add(layers.MaxPooling2D((2, 2)))\n",
    "model.add(layers.Conv2D(64, (3, 3), activation='relu'))\n",
    "model.add(layers.Flatten())\n",
    "model.add(layers.Dense(64, activation='relu'))\n",
    "model.add(layers.Dense(10, activation='softmax'))\n",
    "\n",
    "# Compile the model\n",
    "model.compile(optimizer='adam',\n",
    "              loss='sparse_categorical_crossentropy',\n",
    "              metrics=['accuracy'])\n",
    "\n",
    "# Train the model\n",
    "history = model.fit(train_images, train_labels, epochs=40, validation_data=(validation_images, validation_labels))\n",
    "\n",
    "# Plot the loss of train and validation\n",
    "plt.plot(history.history['loss'])\n",
    "plt.plot(history.history['val_loss'])\n",
    "plt.title('Loss')\n",
    "plt.xlabel('Epoch')\n",
    "plt.ylabel('Loss')\n",
    "plt.legend(['Train', 'Validation'])\n",
    "plt.show()\n"
   ],
   "metadata": {
    "collapsed": false,
    "pycharm": {
     "name": "#%%\n"
    }
   }
  },
  {
   "cell_type": "code",
   "execution_count": 13,
   "outputs": [
    {
     "name": "stdout",
     "output_type": "stream",
     "text": [
      "875/875 [==============================] - 5s 6ms/step\n"
     ]
    }
   ],
   "source": [
    "# Create predictions for test.csv\n",
    "test_images = test.reshape((test.shape[0], 28, 28, 1))\n",
    "test_images = test_images / 255.0\n",
    "predictions = model.predict(test_images)\n",
    "\n",
    "# Save predictions to a csv file\n",
    "with open('submission.csv', 'w') as f:\n",
    "    f.write('ImageId,Label\\n')\n",
    "    for i, p in enumerate(predictions):\n",
    "        f.write('{},{}\\n'.format(i+1, np.argmax(p)))"
   ],
   "metadata": {
    "collapsed": false,
    "pycharm": {
     "name": "#%%\n"
    }
   }
  }
 ],
 "metadata": {
  "kernelspec": {
   "display_name": "Python 3",
   "language": "python",
   "name": "python3"
  },
  "language_info": {
   "codemirror_mode": {
    "name": "ipython",
    "version": 2
   },
   "file_extension": ".py",
   "mimetype": "text/x-python",
   "name": "python",
   "nbconvert_exporter": "python",
   "pygments_lexer": "ipython2",
   "version": "2.7.6"
  }
 },
 "nbformat": 4,
 "nbformat_minor": 0
}